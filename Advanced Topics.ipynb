{
 "cells": [
  {
   "cell_type": "markdown",
   "metadata": {},
   "source": [
    "We used many functions in python notebooks since today. Few of the ones which I love to use most were as following."
   ]
  },
  {
   "cell_type": "markdown",
   "metadata": {},
   "source": [
    "**%PRUN**\n",
    "\n",
    "This command basically sees how long it took each function in a script to run.It runs a profiler and prints detailed info of which sections of the code is taking most of the computing time."
   ]
  },
  {
   "cell_type": "code",
   "execution_count": 1,
   "metadata": {},
   "outputs": [
    {
     "name": "stdout",
     "output_type": "stream",
     "text": [
      "          4 function calls in 0.661 seconds\n",
      "\n",
      "   Ordered by: internal time\n",
      "\n",
      "   ncalls  tottime  percall  cumtime  percall filename:lineno(function)\n",
      "        1    0.660    0.660    0.660    0.660 <ipython-input-1-97d655f8799d>:2(VeryInefficientAdditionofMatrices)\n",
      "        1    0.001    0.001    0.661    0.661 <string>:1(<module>)\n",
      "        1    0.000    0.000    0.000    0.000 {numpy.core.multiarray.zeros}\n",
      "        1    0.000    0.000    0.000    0.000 {method 'disable' of '_lsprof.Profiler' objects}\n",
      "\n",
      "\n",
      "          3 function calls in 0.009 seconds\n",
      "\n",
      "   Ordered by: internal time\n",
      "\n",
      "   ncalls  tottime  percall  cumtime  percall filename:lineno(function)\n",
      "        1    0.008    0.008    0.008    0.008 <ipython-input-1-97d655f8799d>:12(TheRightWayToAddMatrices)\n",
      "        1    0.001    0.001    0.009    0.009 <string>:1(<module>)\n",
      "        1    0.000    0.000    0.000    0.000 {method 'disable' of '_lsprof.Profiler' objects}\n",
      "\n",
      "\n"
     ]
    }
   ],
   "source": [
    "import numpy as np\n",
    "def VeryInefficientAdditionofMatrices(a,b):\n",
    "    '''\n",
    "    This will add the values of 2 3D matrices using a dummy loop method, very inefficient\n",
    "    '''\n",
    "    c=np.zeros(a.shape)\n",
    "    for m in xrange(a.shape[0]):\n",
    "        for n in xrange(a.shape[1]):\n",
    "            for o in xrange(a.shape[2]):\n",
    "                c[m,n,o]=a[m,n,o]+b[m,n,o]\n",
    "                \n",
    "def TheRightWayToAddMatrices(a,b):\n",
    "    '''\n",
    "    Use instead the built-in matrices operations\n",
    "    '''\n",
    "    return a+b\n",
    "# we use two 100x100x100 random matrices\n",
    "a=np.random.random((100,100,100)) \n",
    "b=np.random.random((100,100,100))\n",
    "\n",
    "#A small note, we use here the \"p = %%prun -r\" format to get the results in the variable p,\n",
    "# you can call just with %prun and results will be displayed in a small pop window\n",
    "# but you can't save the variable for further analysis\n",
    "p1 =%%prun -r VeryInefficientAdditionofMatrices(a,b);\n",
    "p1.print_stats();\n",
    "\n",
    "p2 =%%prun -r TheRightWayToAddMatrices(a,b);\n",
    "p2.print_stats();"
   ]
  },
  {
   "cell_type": "markdown",
   "metadata": {},
   "source": [
    "**NUMPY**\n",
    "\n",
    "NumPy is the fundamental package for scientific computing with Python. It contains among other things:\n",
    "\n",
    "> A powerful N-dimensional array object.\n",
    "\n",
    "> Sophisticated (broadcasting) functions.\n",
    "\n",
    "> Tools for integrating C/C++ and Fortran code.\n",
    "\n",
    "> Useful linear algebra, Fourier transform, and random number capabilities.\n",
    "\n",
    "Besides its obvious scientific uses, NumPy can also be used as an efficient multi-dimensional container of generic data. Arbitrary data-types can be defined. This allows NumPy to seamlessly and speedily integrate with a wide variety of databases."
   ]
  },
  {
   "cell_type": "code",
   "execution_count": 2,
   "metadata": {},
   "outputs": [
    {
     "name": "stdout",
     "output_type": "stream",
     "text": [
      "Its all fine if we finished upto here.\n"
     ]
    }
   ],
   "source": [
    "import numpy as np\n",
    "from __future__ import print_function\n",
    "a=np.ones(102)\n",
    "b=np.zeros((13,45))\n",
    "c=np.random.random((100,450,60))\n",
    "\n",
    "np.savez('Data.npz',a=a,b=b,c=c)\n",
    "\n",
    "DataRead=np.load('Data.npz')\n",
    "assert(np.all(a==DataRead['a']))\n",
    "assert(np.all(b==DataRead['b']))\n",
    "assert(np.all(c==DataRead['c']))\n",
    "print ('Its all fine if we finished upto here.')"
   ]
  },
  {
   "cell_type": "markdown",
   "metadata": {},
   "source": [
    "** Adapative Histogram Equalisation**\n",
    "\n",
    "As an alternative to using histeq, you can perform contrast-limited adaptive histogram equalization (CLAHE) using the adapthisteq function. While histeq works on the entire image, adapthisteq operates on small regions in the image, called tiles. adapthisteq enhances the contrast of each tile, so that the histogram of the output region approximately matches a specified histogram. After performing the equalization, adapthisteq combines neighboring tiles using bilinear interpolation to eliminate artificially induced boundaries.\n",
    "\n",
    "To avoid amplifying any noise that might be present in the image, you can use adapthisteq optional parameters to limit the contrast, especially in homogeneous areas."
   ]
  },
  {
   "cell_type": "code",
   "execution_count": 3,
   "metadata": {},
   "outputs": [
    {
     "ename": "NameError",
     "evalue": "name 'plt' is not defined",
     "output_type": "error",
     "traceback": [
      "\u001b[1;31m---------------------------------------------------------------------------\u001b[0m",
      "\u001b[1;31mNameError\u001b[0m                                 Traceback (most recent call last)",
      "\u001b[1;32m<ipython-input-3-5570500fd087>\u001b[0m in \u001b[0;36m<module>\u001b[1;34m()\u001b[0m\n\u001b[1;32m----> 1\u001b[1;33m \u001b[0mfig\u001b[0m\u001b[1;33m=\u001b[0m\u001b[0mplt\u001b[0m\u001b[1;33m.\u001b[0m\u001b[0mfigure\u001b[0m\u001b[1;33m(\u001b[0m\u001b[0mfigsize\u001b[0m\u001b[1;33m=\u001b[0m\u001b[1;33m(\u001b[0m\u001b[1;36m18\u001b[0m\u001b[1;33m,\u001b[0m \u001b[1;36m16\u001b[0m\u001b[1;33m)\u001b[0m\u001b[1;33m,\u001b[0m \u001b[0mdpi\u001b[0m\u001b[1;33m=\u001b[0m \u001b[1;36m80\u001b[0m\u001b[1;33m,\u001b[0m \u001b[0mfacecolor\u001b[0m\u001b[1;33m=\u001b[0m\u001b[1;34m'w'\u001b[0m\u001b[1;33m,\u001b[0m \u001b[0medgecolor\u001b[0m\u001b[1;33m=\u001b[0m\u001b[1;34m'k'\u001b[0m\u001b[1;33m)\u001b[0m\u001b[1;33m\u001b[0m\u001b[0m\n\u001b[0m\u001b[0;32m      2\u001b[0m \u001b[0mimg_adapteq\u001b[0m \u001b[1;33m=\u001b[0m \u001b[0mexposure\u001b[0m\u001b[1;33m.\u001b[0m\u001b[0mequalize_adapthist\u001b[0m\u001b[1;33m(\u001b[0m\u001b[0mbrainpicarray\u001b[0m\u001b[1;33m,\u001b[0m \u001b[0mclip_limit\u001b[0m\u001b[1;33m=\u001b[0m\u001b[1;36m0.02\u001b[0m\u001b[1;33m)\u001b[0m\u001b[1;33m\u001b[0m\u001b[0m\n\u001b[0;32m      3\u001b[0m \u001b[1;33m\u001b[0m\u001b[0m\n\u001b[0;32m      4\u001b[0m \u001b[0mplt\u001b[0m\u001b[1;33m.\u001b[0m\u001b[0msubplot\u001b[0m\u001b[1;33m(\u001b[0m\u001b[1;36m221\u001b[0m\u001b[1;33m)\u001b[0m\u001b[1;33m\u001b[0m\u001b[0m\n\u001b[0;32m      5\u001b[0m \u001b[0mplt\u001b[0m\u001b[1;33m.\u001b[0m\u001b[0mimshow\u001b[0m\u001b[1;33m(\u001b[0m\u001b[0mimg_adapteq\u001b[0m\u001b[1;33m)\u001b[0m\u001b[1;33m\u001b[0m\u001b[0m\n",
      "\u001b[1;31mNameError\u001b[0m: name 'plt' is not defined"
     ]
    }
   ],
   "source": [
    "fig=plt.figure(figsize=(18, 16), dpi= 80, facecolor='w', edgecolor='k')\n",
    "img_adapteq = exposure.equalize_adapthist(brainpicarray, clip_limit=0.02)\n",
    "\n",
    "plt.subplot(221)\n",
    "plt.imshow(img_adapteq)\n",
    "plt.subplot(222)\n",
    "plt.imshow(brainpicarray)\n",
    "plt.subplot(223)\n",
    "ht=plt.hist(img_eq2.ravel(), bins=256, histtype='step', color='black')\n",
    "plt.subplot(224)\n",
    "ht=plt.hist(brainpicarray.ravel(), bins=256, histtype='step', color='black')"
   ]
  },
  {
   "cell_type": "markdown",
   "metadata": {},
   "source": [
    "**References**\n",
    "\n",
    ". *\"Advanced topics for notebooks\"* by Laura Curiel, Department of Electrical & COmputer Engineering, Lakehead University."
   ]
  }
 ],
 "metadata": {
  "kernelspec": {
   "display_name": "Python 2",
   "language": "python",
   "name": "python2"
  },
  "language_info": {
   "codemirror_mode": {
    "name": "ipython",
    "version": 2
   },
   "file_extension": ".py",
   "mimetype": "text/x-python",
   "name": "python",
   "nbconvert_exporter": "python",
   "pygments_lexer": "ipython2",
   "version": "2.7.13"
  }
 },
 "nbformat": 4,
 "nbformat_minor": 2
}
